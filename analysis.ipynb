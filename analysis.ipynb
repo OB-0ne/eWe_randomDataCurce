{
 "cells": [
  {
   "cell_type": "code",
   "execution_count": 28,
   "metadata": {},
   "outputs": [],
   "source": [
    "# needed libaries\n",
    "import numpy as np\n",
    "import scipy.stats as stats\n",
    "import random\n",
    "import pandas as pd\n",
    "import matplotlib.pyplot as plt\n",
    "\n",
    "# variables for controlling data\n",
    "samples = 100\n",
    "vols = [5,8,10,12,15]\n",
    "col_name = ['Age','Vol','Val']\n",
    "\n",
    "# making random dummy data\n",
    "att01 = [random.randint(15,55) for i in range(0,samples)]\n",
    "att02 = [vols[random.randint(0,4)] for i in range(0,samples)]\n",
    "val = [8 + random.random()*8  for i in range(0,samples)]\n",
    "data = [[att01[i],att02[i],val[i]] for i in range(0,samples)]\n",
    "\n",
    "# make a pandas dataframe as PowerBI only works with them\n",
    "df_data = pd.DataFrame(data, columns=col_name)"
   ]
  },
  {
   "cell_type": "code",
   "execution_count": 29,
   "metadata": {},
   "outputs": [
    {
     "data": {
      "image/png": "[encoded data removed]",
      "text/plain": [
       "<Figure size 432x288 with 1 Axes>"
      ]
     },
     "metadata": {
      "needs_background": "light"
     },
     "output_type": "display_data"
    }
   ],
   "source": [
    "#polynomial fit with degree = 2\n",
    "model = np.poly1d(np.polyfit(df_data['Age'], df_data['Val'], 2))\n",
    "\n",
    "polyline = np.linspace(0, 70, 70)\n",
    "trend_data = model(polyline)    # output 1\n",
    "eq_coeff = model.coef           # output 2\n",
    "\n",
    "#converting trendline to dataframe\n",
    "df_byAge = pd.DataFrame(columns=['Age','Val'])\n",
    "df_byAge['Age'] = polyline\n",
    "df_byAge['Val'] = trend_data\n",
    "\n",
    "#make a scatter plot with the trendline\n",
    "plt.scatter(att01, val)\n",
    "plt.plot(polyline, trend_data)\n",
    "plt.show()\n"
   ]
  },
  {
   "cell_type": "code",
   "execution_count": 30,
   "metadata": {},
   "outputs": [
    {
     "data": {
      "image/png": "[encoded data removed]",
      "text/plain": [
       "<Figure size 432x288 with 1 Axes>"
      ]
     },
     "metadata": {
      "needs_background": "light"
     },
     "output_type": "display_data"
    }
   ],
   "source": [
    "\n",
    "#polynomial fit with degree = 2\n",
    "model = np.poly1d(np.polyfit(df_data['Vol'], df_data['Val'], 2))\n",
    "\n",
    "#making trendline as a list\n",
    "polyline = np.linspace(0, 20, 70)\n",
    "trend_data = model(polyline)    # output 1\n",
    "eq_coeff = model.coef           # output 2\n",
    "\n",
    "#converting trendline to dataframe\n",
    "df_byVol = pd.DataFrame(columns=['Vol','Val'])\n",
    "df_byVol['Vol'] = polyline\n",
    "df_byVol['Val'] = trend_data\n",
    "\n",
    "#make a scatter plot with the trendline\n",
    "plt.scatter(att02, val)\n",
    "plt.plot(polyline, trend_data)\n",
    "plt.show()\n"
   ]
  },
  {
   "cell_type": "code",
   "execution_count": 32,
   "metadata": {},
   "outputs": [
    {
     "data": {
      "text/html": [
       "<div>\n",
       "<style scoped>\n",
       "    .dataframe tbody tr th:only-of-type {\n",
       "        vertical-align: middle;\n",
       "    }\n",
       "\n",
       "    .dataframe tbody tr th {\n",
       "        vertical-align: top;\n",
       "    }\n",
       "\n",
       "    .dataframe thead th {\n",
       "        text-align: right;\n",
       "    }\n",
       "</style>\n",
       "<table border=\"1\" class=\"dataframe\">\n",
       "  <thead>\n",
       "    <tr style=\"text-align: right;\">\n",
       "      <th></th>\n",
       "      <th>Age</th>\n",
       "      <th>Val</th>\n",
       "    </tr>\n",
       "  </thead>\n",
       "  <tbody>\n",
       "    <tr>\n",
       "      <th>0</th>\n",
       "      <td>0.000000</td>\n",
       "      <td>10.326773</td>\n",
       "    </tr>\n",
       "    <tr>\n",
       "      <th>1</th>\n",
       "      <td>1.014493</td>\n",
       "      <td>10.432791</td>\n",
       "    </tr>\n",
       "    <tr>\n",
       "      <th>2</th>\n",
       "      <td>2.028986</td>\n",
       "      <td>10.535631</td>\n",
       "    </tr>\n",
       "    <tr>\n",
       "      <th>3</th>\n",
       "      <td>3.043478</td>\n",
       "      <td>10.635292</td>\n",
       "    </tr>\n",
       "    <tr>\n",
       "      <th>4</th>\n",
       "      <td>4.057971</td>\n",
       "      <td>10.731777</td>\n",
       "    </tr>\n",
       "    <tr>\n",
       "      <th>...</th>\n",
       "      <td>...</td>\n",
       "      <td>...</td>\n",
       "    </tr>\n",
       "    <tr>\n",
       "      <th>65</th>\n",
       "      <td>65.942029</td>\n",
       "      <td>10.608097</td>\n",
       "    </tr>\n",
       "    <tr>\n",
       "      <th>66</th>\n",
       "      <td>66.956522</td>\n",
       "      <td>10.507557</td>\n",
       "    </tr>\n",
       "    <tr>\n",
       "      <th>67</th>\n",
       "      <td>67.971014</td>\n",
       "      <td>10.403840</td>\n",
       "    </tr>\n",
       "    <tr>\n",
       "      <th>68</th>\n",
       "      <td>68.985507</td>\n",
       "      <td>10.296946</td>\n",
       "    </tr>\n",
       "    <tr>\n",
       "      <th>69</th>\n",
       "      <td>70.000000</td>\n",
       "      <td>10.186873</td>\n",
       "    </tr>\n",
       "  </tbody>\n",
       "</table>\n",
       "<p>70 rows × 2 columns</p>\n",
       "</div>"
      ],
      "text/plain": [
       "          Age        Val\n",
       "0    0.000000  10.326773\n",
       "1    1.014493  10.432791\n",
       "2    2.028986  10.535631\n",
       "3    3.043478  10.635292\n",
       "4    4.057971  10.731777\n",
       "..        ...        ...\n",
       "65  65.942029  10.608097\n",
       "66  66.956522  10.507557\n",
       "67  67.971014  10.403840\n",
       "68  68.985507  10.296946\n",
       "69  70.000000  10.186873\n",
       "\n",
       "[70 rows x 2 columns]"
      ]
     },
     "execution_count": 32,
     "metadata": {},
     "output_type": "execute_result"
    }
   ],
   "source": [
    "df_byAge"
   ]
  }
 ],
 "metadata": {
  "interpreter": {
   "hash": "306b4709344c791e982a258cf5494139869959872aa39c2c4102a54cca0d2138"
  },
  "kernelspec": {
   "display_name": "Python 3.7.4 64-bit",
   "name": "python3"
  },
  "language_info": {
   "codemirror_mode": {
    "name": "ipython",
    "version": 3
   },
   "file_extension": ".py",
   "mimetype": "text/x-python",
   "name": "python",
   "nbconvert_exporter": "python",
   "pygments_lexer": "ipython3",
   "version": "3.7.4"
  },
  "orig_nbformat": 4
 },
 "nbformat": 4,
 "nbformat_minor": 2
}
